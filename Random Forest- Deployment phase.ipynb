{
 "cells": [
  {
   "cell_type": "code",
   "execution_count": 1,
   "id": "78312919",
   "metadata": {},
   "outputs": [],
   "source": [
    "import pickle"
   ]
  },
  {
   "cell_type": "code",
   "execution_count": 2,
   "id": "f6dfe957",
   "metadata": {},
   "outputs": [],
   "source": [
    "loaded_model=pickle.load(open(\"finalised_model_randomforestclassification.sav\",'rb'))"
   ]
  },
  {
   "cell_type": "code",
   "execution_count": 3,
   "id": "3a9ba32c",
   "metadata": {},
   "outputs": [
    {
     "name": "stdout",
     "output_type": "stream",
     "text": [
      "Age:15\n",
      "bp:78\n",
      "al:0\n",
      "su:0\n",
      "bgr:148\n",
      "bu:3.2\n",
      "sc:0.8\n",
      "sod:32\n",
      "pot:3.4\n",
      "hrmo:12\n",
      "pcv:34\n",
      "wc:148\n",
      "rc:12\n",
      "sg_b:0\n",
      "sg_c:0\n",
      "sg_d:0\n",
      "sg_e:0\n",
      "rbc_normal:0\n",
      "pc_normal:0\n",
      "pcc_normal:0\n",
      "pcc_present:0\n",
      "ba_present:0\n",
      "htn_yes:0\n",
      "dm_yes:0\n",
      "cad_yes:0\n",
      "appet_yes:0\n",
      "pe_yes:0\n",
      "ane_yes:0\n"
     ]
    }
   ],
   "source": [
    "age=int(input(\"Age:\"))\n",
    "bp=float(input(\"bp:\"))\n",
    "al=int(input(\"al:\"))\n",
    "su=int(input(\"su:\"))\n",
    "bgr=float(input(\"bgr:\"))\n",
    "bu=float(input(\"bu:\"))\n",
    "sc=float(input(\"sc:\"))\n",
    "sod=float(input(\"sod:\"))\n",
    "pot=float(input(\"pot:\"))\n",
    "hrmo=float(input(\"hrmo:\"))\n",
    "pcv=float(input(\"pcv:\"))\n",
    "wc=float(input(\"wc:\"))\n",
    "rc=float(input(\"rc:\"))\n",
    "sg_b=int(input(\"sg_b:\"))\n",
    "sg_c=int(input(\"sg_c:\"))\n",
    "sg_d=int(input(\"sg_d:\"))\n",
    "sg_e=int(input(\"sg_e:\"))\n",
    "rbc_normal=int(input(\"rbc_normal:\"))\n",
    "pc_normal=int(input(\"pc_normal:\"))\n",
    "pcc_normal=int(input(\"pcc_normal:\"))\n",
    "pcc_present=int(input(\"pcc_present:\"))\n",
    "ba_present=int(input(\"ba_present:\"))\n",
    "htn_yes=int(input(\"htn_yes:\"))\n",
    "dm_yes=int(input(\"dm_yes:\"))\n",
    "cad_yes=int(input(\"cad_yes:\"))\n",
    "appet_yes=int(input(\"appet_yes:\"))\n",
    "pe_yes=int(input(\"pe_yes:\"))\n",
    "ane_yes=int(input(\"ane_yes:\"))"
   ]
  },
  {
   "cell_type": "code",
   "execution_count": 4,
   "id": "057057f3",
   "metadata": {},
   "outputs": [
    {
     "ename": "NameError",
     "evalue": "name 'grid' is not defined",
     "output_type": "error",
     "traceback": [
      "\u001b[1;31m---------------------------------------------------------------------------\u001b[0m",
      "\u001b[1;31mNameError\u001b[0m                                 Traceback (most recent call last)",
      "Cell \u001b[1;32mIn[4], line 1\u001b[0m\n\u001b[1;32m----> 1\u001b[0m Future_Prediction \u001b[38;5;241m=\u001b[39m grid\u001b[38;5;241m.\u001b[39mpredict([[age, bp, al, su, bgr, bu, sc, sod, pot, hrmo, pcv,\n\u001b[0;32m      2\u001b[0m                                    wc, rc, sg_b, sg_c, sg_d, sg_e, rbc_normal,pcc_present, pc_normal,ba_present, htn_yes, dm_yes, cad_yes,\n\u001b[0;32m      3\u001b[0m                                    appet_yes, pe_yes, ane_yes]])\n\u001b[0;32m      4\u001b[0m \u001b[38;5;28mprint\u001b[39m(\u001b[38;5;124m\"\u001b[39m\u001b[38;5;124mFuture_Prediction=\u001b[39m\u001b[38;5;132;01m{}\u001b[39;00m\u001b[38;5;124m\"\u001b[39m\u001b[38;5;241m.\u001b[39mformat(Future_Prediction))\n",
      "\u001b[1;31mNameError\u001b[0m: name 'grid' is not defined"
     ]
    }
   ],
   "source": [
    "Future_Prediction = grid.predict([[age, bp, al, su, bgr, bu, sc, sod, pot, hrmo, pcv,\n",
    "                                   wc, rc, sg_b, sg_c, sg_d, sg_e, rbc_normal,pcc_present, pc_normal,ba_present, htn_yes, dm_yes, cad_yes,\n",
    "                                   appet_yes, pe_yes, ane_yes]])\n",
    "print(\"Future_Prediction={}\".format(Future_Prediction))"
   ]
  },
  {
   "cell_type": "code",
   "execution_count": null,
   "id": "b28d4134",
   "metadata": {},
   "outputs": [],
   "source": []
  }
 ],
 "metadata": {
  "kernelspec": {
   "display_name": "Python 3 (ipykernel)",
   "language": "python",
   "name": "python3"
  },
  "language_info": {
   "codemirror_mode": {
    "name": "ipython",
    "version": 3
   },
   "file_extension": ".py",
   "mimetype": "text/x-python",
   "name": "python",
   "nbconvert_exporter": "python",
   "pygments_lexer": "ipython3",
   "version": "3.11.5"
  }
 },
 "nbformat": 4,
 "nbformat_minor": 5
}
